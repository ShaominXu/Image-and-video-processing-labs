{
 "cells": [
  {
   "cell_type": "markdown",
   "metadata": {},
   "source": [
    "# Computer Assignment 6"
   ]
  },
  {
   "cell_type": "markdown",
   "metadata": {},
   "source": [
    "Write a code that implements a basic form of the block-based hybrid video coder for coding\n",
    "a P-frame using a fixed block size of 8x8. For simplicity, consider intra-prediction using only\n",
    "the first 3 intra prediction modes shown below over 8x8 blocks, and inter-prediction using\n",
    "integer accuracy EBMA, with a specified search range, e.g. +/-24. For inter-prediction, we will use two frames that are 10 frames apart, and use the past frame to predict the future frame.\n",
    "\n",
    "You program should do the following for each block: \n",
    "- i) find the best intra-prediction mode and the corresponding\n",
    "error block and its MSE; \n",
    "- ii) find the best MV for inter-prediction and the corresponding\n",
    "error block and its MSE; \n",
    "- iii) Choose the prediction mode which has smallest MSE; \n",
    "- iv) Calculate the error block between the prediction and original\n",
    "- The above steps should generate a prediction image and an error image\n",
    "\n",
    "Your progam should then do the following on the error image\n",
    "- v) Perform 8x8 DCT on each prediction error blocks; \n",
    "- vi) Quantize all the DCT coefficients with the same quantization step-size (QS) q; Note that you should assume the prediction error has zero mean and use a quantizer that is symmetric with respect to 0;  \n",
    "- vii) Count how many non-zero coefficients you have after quantization, \n",
    "- viii) Reconstruct the error block by performing inverse DCT on quantized DCT coefficients; \n",
    "- ix) Reconstruct the original block by adding the reconstructed error block to the predicted block\n",
    "- x) Repeat v-ix using different quantization step sizes\n",
    "- The above steps should genearte a reconstructed image\n",
    "\n",
    "![img](img.png)\n",
    "\n",
    "- Although the figure shows 4x4 block size, we will be using 8x8 blocks. Intraprediction rules are the same.\n",
    "\n",
    "Instead of developing a real entropy coder, we will use the total number of non-zero DCT coefficients as an\n",
    "estimate of the bit rate and ignore the bits needed to code the side information (mode info,\n",
    "motion vector, etc.). Your program should determine the PSNR of the reconstructed image\n",
    "(compared to the original image) and the total number of non-zero quantized DCT\n",
    "coefficients K, for a given quantization step-size q.\n",
    "\n",
    "You should repeat operations(v-ix) for a set of q=4, 16, 32, 64, 128 and determine the PSNR and K for each q, and draw the resulting PSNR vs. K curve, as a substitute for the PSNR vs. rate curve.\n",
    "\n",
    "**Use the _Football_ video provided in the attachment as test sequence**\n",
    "\n",
    "**Frames in the video have been extracted for you in .jpg format.**"
   ]
  },
  {
   "cell_type": "code",
   "execution_count": null,
   "metadata": {},
   "outputs": [],
   "source": [
    "import cv2\n",
    "import numpy as np\n",
    "import matplotlib.pyplot as plt\n",
    "from tqdm import tqdm    # Used to display a progress bar while running for-loops\n",
    "%matplotlib inline"
   ]
  },
  {
   "cell_type": "code",
   "execution_count": null,
   "metadata": {},
   "outputs": [],
   "source": [
    "################################################ TODO ###############################################\n",
    "# Read in two frames that are several frames apart.\n",
    "# For example, frame100 and frame110\n",
    "# Read in grayscale mode\n",
    "\n",
    "#Load a frame from the sequence\n",
    "img1 = cv2.imread(...)\n",
    "img1 = img1.astype('float')\n",
    "\n",
    "# Load another frame that is 10 frames after the above frame\n",
    "img2 = cv2.imread(...)\n",
    "img2 = img2.astype('float')\n",
    "\n",
    "### Plot the two Frames\n",
    "...\n"
   ]
  },
  {
   "cell_type": "code",
   "execution_count": null,
   "metadata": {},
   "outputs": [],
   "source": [
    "###################################  TODO  ###############################\n",
    "# Define a function to calculate the MSE with the error block as the input\n",
    "def mse(error):\n",
    "    ..."
   ]
  },
  {
   "cell_type": "code",
   "execution_count": null,
   "metadata": {},
   "outputs": [],
   "source": [
    "################################################ TODO ###############################################\n",
    "# Define EBMA() which takes as input the template(target block), image, template location(x0, y0) and search range\n",
    "# Return the matching block and the motion vector\n",
    "def EBMA(template,img,x0,y0,range_x,range_y):\n",
    "    # get the number of rows and columns of the image\n",
    "    rows, cols = ...\n",
    "    # get the number of rows and columns of the template\n",
    "    b_rows, b_cols = ...\n",
    "    # initialize maximum error, motion vector and matchblock\n",
    "    min_mse = ...\n",
    "    xm = ...\n",
    "    ym = ...\n",
    "    matchblock = ...\n",
    "    # loop over the searching range to find the matchblock with the smallest error.\n",
    "    for i in range(max(1,x0-range_x),min(rows-b_rows,x0+range_x)):\n",
    "        for j in range(max(1,y0-range_y),min(cols-b_cols,y0+range_y)):\n",
    "            candidate = ...\n",
    "            error = ...\n",
    "            mse_error = ...\n",
    "            if mse_error < min_mse:\n",
    "                # update motion vector, matchblock and max_error if the error of the new block is smaller\n",
    "                xm = ...\n",
    "                ym = ...\n",
    "                matchblock = ...\n",
    "                min_mse = ...\n",
    "    return xm, ym, matchblock"
   ]
  },
  {
   "cell_type": "code",
   "execution_count": null,
   "metadata": {},
   "outputs": [],
   "source": [
    "################################################ TODO ###############################################\n",
    "# define quantization function to quantize the dct coefficients\n",
    "# recall the quantization function: Q(f)=floor( (f-mean+Q/2)/Q) *Q+mean\n",
    "# Assume the mean of the dct coefficients is 0\n",
    "def quant(dct_coef, q):\n",
    "    dctimg_quant = ...\n",
    "    return dctimg_quant"
   ]
  },
  {
   "cell_type": "markdown",
   "metadata": {},
   "source": [
    "## Generate Predicted Image and Error Image\n",
    "- We will be coding img2 with intraprediction using reconstructed pixels in the same frame, and interprediction using past frame img1 as reference\n",
    "- We will assume that the first row and column of the image are already reconstructed.\n",
    "- Also assume that in both inter and intraprediction, the reference pixels were perfectly reconstructed. So we can use the original pixels from img1 and img2 as reference in prediction.\n",
    "\n",
    "- This section of code will generate two images:\n",
    "\n",
    "    - **Predicted Image**: Image predicted via intra and inter modes using reference pixels from img2 and img1\n",
    "    - **Error Image**: Unquantized image of the error between predicted image and original image"
   ]
  },
  {
   "cell_type": "code",
   "execution_count": null,
   "metadata": {},
   "outputs": [],
   "source": [
    "################################################ TODO ###############################################\n",
    "# define searching range for EBMA\n",
    "range_x = ...\n",
    "range_y = ...\n",
    "# get the row and column size of the images.\n",
    "rows, cols = ...\n",
    "# define the block size\n",
    "N = ...\n",
    "\n",
    "# Pad the right and bottom sides of image 2, so that the image dimensions (minus the first row/col) is a multiple of N.\n",
    "img2_pad = np.pad(img2, [[0,N-(rows-1)%N],[0,N-(cols-1)%N]], mode ='edge')\n",
    "\n",
    "################################################ TODO ###############################################\n",
    "# initialize the predicted image as zeros with same size as img2_pad\n",
    "pred_img_pad = ...\n",
    "# Assume first row & col are already reconstructed, copy them directly form img2\n",
    "pred_img_pad[0,:] = ...\n",
    "pred_img_pad[:,0] = ...\n",
    "# Initializae an array for error image, which we will be reusing for the next part\n",
    "err_img_pad = ...\n",
    "\n",
    "################################################ TODO ###############################################\n",
    "# Loop through all blocks and for each block find mode that has minimum error\n",
    "for x0 in tqdm(np.arange(1,(rows-1), N)):\n",
    "    for y0 in np.arange(1,(cols-1), N):\n",
    "        #get the current block\n",
    "        patch = ...\n",
    "        min_MSE=255**2 \n",
    "\n",
    "        # mode 0  Vertical\n",
    "        pred_block = np.zeros((N,N))\n",
    "        # Vertical perdiction to fill pred_block\n",
    "        ...\n",
    "        # get the error block between the predicted block and the current block\n",
    "        err_block = ...\n",
    "        # calculate the mse of the error block\n",
    "        current_mse = ...\n",
    "        # update the predicted block and error block if the mse is smaller\n",
    "        if current_mse < min_MSE: \n",
    "            min_pred_block = ...\n",
    "            min_err_block = ...\n",
    "            min_MSE = ...\n",
    "            \n",
    "        # mode 1  Horizontal\n",
    "        pred_block = np.zeros((N,N))\n",
    "        # Horizontal perdiction to fill pred_block\n",
    "        ...\n",
    "        err_block = ...\n",
    "        current_mse = ...\n",
    "        if current_mse < min_MSE: \n",
    "            min_pred_block = ...\n",
    "            min_err_block = ...\n",
    "            min_MSE = ...\n",
    "        \n",
    "        #mode 2: DC\n",
    "        pred_block = np.zeros((N,N))\n",
    "        # DC prediction\n",
    "        ...\n",
    "        err_block = ...\n",
    "        current_mse = ...\n",
    "        if current_mse < min_MSE: \n",
    "            min_pred_block = ...\n",
    "            min_err_block = ...\n",
    "            min_MSE = ...\n",
    "\n",
    "        #inter-prediction\n",
    "        #perform EBMA to the current block to find best match in img1\n",
    "        xm,ym,pred_block = ...\n",
    "        err_block = ...\n",
    "        current_mse = ...\n",
    "        if current_mse < min_MSE: \n",
    "            min_pred_block = ...\n",
    "            min_err_block = ...\n",
    "            min_MSE = ...\n",
    "        \n",
    "        ## Put the min_pred_block and min_err_block in the correct position in the output images\n",
    "        pred_img_pad[...] = ...\n",
    "        err_img_pad[...] = ...\n",
    "\n",
    "# Remove padding\n",
    "pred_img = pred_img_pad[0:rows,0:cols]\n",
    "err_img = err_img_pad[0:rows,0:cols]"
   ]
  },
  {
   "cell_type": "code",
   "execution_count": null,
   "metadata": {
    "scrolled": false
   },
   "outputs": [],
   "source": [
    "################################################ TODO ###############################################\n",
    "# plot the original image, predicted image, error image\n",
    "..."
   ]
  },
  {
   "cell_type": "markdown",
   "metadata": {},
   "source": [
    "## Test different quantization step sizes\n",
    "- Using the err_img_pad from above, quantize the error image with different step sizes. Then add to the predicted image to generate the reconstructed image. Test different step sizes and evaluate PSNR."
   ]
  },
  {
   "cell_type": "code",
   "execution_count": null,
   "metadata": {},
   "outputs": [],
   "source": [
    "################################################ TODO ###############################################\n",
    "# QUANTIZE WITH DIFFERENT STEP SIZE: 4, 16, 32, 64, 128\n",
    "Q_list = [4, 16, 32, 64, 128]\n",
    "\n",
    "# Lists to hold reconstructed image, non-zero counts, psnr\n",
    "Rec_img =[]\n",
    "Non_zero = []\n",
    "PSNR = []\n",
    "\n",
    "for q in Q_list:\n",
    "    non_zero = 0\n",
    "    rec_img_pad = np.zeros(img2_pad.shape)\n",
    "    # Assume first row & col are already reconstructed, copy them directly form img2\n",
    "    ...\n",
    "    for x0 in np.arange(1,(rows-1), N):\n",
    "        for y0 in np.arange(1,(cols-1), N):\n",
    "            # extract current error block from the error image\n",
    "            err_block = ...\n",
    "            # perform DCT to the current error block, input astype float\n",
    "            dct_block =  ...\n",
    "            # quantize the coefficients\n",
    "            dct_block_quant = ...\n",
    "            # Count number of nonzero in this block, update nonzero\n",
    "            non_zero += ...\n",
    "            # IDCT to the quantized dct block, input astype float\n",
    "            err_block_rec = ...\n",
    "            # reconstruct the block\n",
    "            rec_img_pad[...] = ...\n",
    "    # Remove padding\n",
    "    rec_img = rec_img_pad[0:rows, 0:cols]\n",
    "    \n",
    "    # Calculate PSNR, Append items to lists\n",
    "    ...\n",
    "    PSNR.append(...)\n",
    "    Non_zero.append(...)\n",
    "    # Clip rec_img to (0,255) and change back to uint8\n",
    "    rec_img = np.clip(rec_img,0,255).astype('uint8')\n",
    "    Rec_img.append(...)"
   ]
  },
  {
   "cell_type": "markdown",
   "metadata": {},
   "source": [
    "### Plot the PSNR vs. Nonzero curve, each Reconstructed image with different quantization steps"
   ]
  },
  {
   "cell_type": "code",
   "execution_count": null,
   "metadata": {},
   "outputs": [],
   "source": [
    "################################################ TODO ###############################################\n",
    "# Plot the PSNR vs. Nonzero curve, each Reconstructed image with different quantization steps"
   ]
  },
  {
   "cell_type": "code",
   "execution_count": null,
   "metadata": {},
   "outputs": [],
   "source": []
  }
 ],
 "metadata": {
  "kernelspec": {
   "display_name": "Python 3",
   "language": "python",
   "name": "python3"
  },
  "language_info": {
   "codemirror_mode": {
    "name": "ipython",
    "version": 3
   },
   "file_extension": ".py",
   "mimetype": "text/x-python",
   "name": "python",
   "nbconvert_exporter": "python",
   "pygments_lexer": "ipython3",
   "version": "3.7.6"
  }
 },
 "nbformat": 4,
 "nbformat_minor": 2
}
